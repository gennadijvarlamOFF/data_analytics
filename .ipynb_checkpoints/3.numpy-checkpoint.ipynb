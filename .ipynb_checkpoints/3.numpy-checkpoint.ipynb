{
 "cells": [
  {
   "cell_type": "code",
   "execution_count": 1,
   "id": "1a5e114a",
   "metadata": {},
   "outputs": [],
   "source": [
    "import numpy as np"
   ]
  },
  {
   "cell_type": "code",
   "execution_count": 2,
   "id": "4643cedf",
   "metadata": {},
   "outputs": [],
   "source": [
    "## Атрибуты"
   ]
  },
  {
   "cell_type": "code",
   "execution_count": 21,
   "id": "3de498e3",
   "metadata": {},
   "outputs": [
    {
     "data": {
      "text/plain": [
       "array([-7,  2, -3,  3,  3,  3,  6, -5,  3,  2,  6,  6,  8, -8, -6])"
      ]
     },
     "execution_count": 21,
     "metadata": {},
     "output_type": "execute_result"
    }
   ],
   "source": [
    "# вектор-строка\n",
    "arr_0 = np.random.randint(-10, 10, size=15)\n",
    "arr_0"
   ]
  },
  {
   "cell_type": "code",
   "execution_count": 22,
   "id": "023e532c",
   "metadata": {},
   "outputs": [
    {
     "data": {
      "text/plain": [
       "array([[ -1],\n",
       "       [ -1],\n",
       "       [  0],\n",
       "       [-10],\n",
       "       [  5]])"
      ]
     },
     "execution_count": 22,
     "metadata": {},
     "output_type": "execute_result"
    }
   ],
   "source": [
    "# вектор-столбец\n",
    "arr_1 = np.random.randint(-10, 10, size=(5, 1))\n",
    "arr_1"
   ]
  },
  {
   "cell_type": "code",
   "execution_count": 23,
   "id": "39a09e7c",
   "metadata": {},
   "outputs": [
    {
     "data": {
      "text/plain": [
       "array([[0.70398395, 0.78739011, 0.49637875, 0.62150704, 0.04645025],\n",
       "       [0.96288076, 0.43758151, 0.11841279, 0.58816196, 0.56811077],\n",
       "       [0.69894366, 0.13125319, 0.27842164, 0.87784351, 0.69393016]])"
      ]
     },
     "execution_count": 23,
     "metadata": {},
     "output_type": "execute_result"
    }
   ],
   "source": [
    "arr_2 = np.random.rand(3, 5)\n",
    "arr_2"
   ]
  },
  {
   "cell_type": "code",
   "execution_count": 24,
   "id": "e8d176e6",
   "metadata": {},
   "outputs": [
    {
     "data": {
      "text/plain": [
       "(15,)"
      ]
     },
     "execution_count": 24,
     "metadata": {},
     "output_type": "execute_result"
    }
   ],
   "source": [
    "# форма массива\n",
    "arr_0.shape"
   ]
  },
  {
   "cell_type": "code",
   "execution_count": 26,
   "id": "9ec18c96",
   "metadata": {},
   "outputs": [
    {
     "data": {
      "text/plain": [
       "(5, 1)"
      ]
     },
     "execution_count": 26,
     "metadata": {},
     "output_type": "execute_result"
    }
   ],
   "source": [
    "arr_1.shape"
   ]
  },
  {
   "cell_type": "code",
   "execution_count": 27,
   "id": "385a5927",
   "metadata": {},
   "outputs": [
    {
     "data": {
      "text/plain": [
       "dtype('int32')"
      ]
     },
     "execution_count": 27,
     "metadata": {},
     "output_type": "execute_result"
    }
   ],
   "source": [
    "# тип данных\n",
    "arr_0.dtype"
   ]
  },
  {
   "cell_type": "code",
   "execution_count": 28,
   "id": "c868c511",
   "metadata": {},
   "outputs": [
    {
     "data": {
      "text/plain": [
       "dtype('float64')"
      ]
     },
     "execution_count": 28,
     "metadata": {},
     "output_type": "execute_result"
    }
   ],
   "source": [
    "arr_2.dtype"
   ]
  },
  {
   "cell_type": "code",
   "execution_count": 29,
   "id": "aa291494",
   "metadata": {},
   "outputs": [],
   "source": [
    "# мерность массива (кол-во измерений/осей массива)"
   ]
  },
  {
   "cell_type": "code",
   "execution_count": 30,
   "id": "6169031e",
   "metadata": {},
   "outputs": [
    {
     "data": {
      "text/plain": [
       "1"
      ]
     },
     "execution_count": 30,
     "metadata": {},
     "output_type": "execute_result"
    }
   ],
   "source": [
    "arr_0.ndim"
   ]
  },
  {
   "cell_type": "code",
   "execution_count": 31,
   "id": "8e272e50",
   "metadata": {},
   "outputs": [
    {
     "data": {
      "text/plain": [
       "2"
      ]
     },
     "execution_count": 31,
     "metadata": {},
     "output_type": "execute_result"
    }
   ],
   "source": [
    "arr_1.ndim"
   ]
  },
  {
   "cell_type": "code",
   "execution_count": 32,
   "id": "272f184d",
   "metadata": {},
   "outputs": [
    {
     "data": {
      "text/plain": [
       "120"
      ]
     },
     "execution_count": 32,
     "metadata": {},
     "output_type": "execute_result"
    }
   ],
   "source": [
    "# занимаемый объем памяти (в байтах)\n",
    "arr_2.nbytes"
   ]
  },
  {
   "cell_type": "code",
   "execution_count": 33,
   "id": "d95a8ce4",
   "metadata": {},
   "outputs": [
    {
     "data": {
      "text/plain": [
       "60"
      ]
     },
     "execution_count": 33,
     "metadata": {},
     "output_type": "execute_result"
    }
   ],
   "source": [
    "arr_0.nbytes"
   ]
  },
  {
   "cell_type": "code",
   "execution_count": 34,
   "id": "e876c50a",
   "metadata": {},
   "outputs": [
    {
     "data": {
      "text/plain": [
       "20"
      ]
     },
     "execution_count": 34,
     "metadata": {},
     "output_type": "execute_result"
    }
   ],
   "source": [
    "arr_1.nbytes"
   ]
  },
  {
   "cell_type": "code",
   "execution_count": 35,
   "id": "ca2c3725",
   "metadata": {},
   "outputs": [],
   "source": [
    "# Методы"
   ]
  },
  {
   "cell_type": "code",
   "execution_count": 36,
   "id": "b0219d18",
   "metadata": {},
   "outputs": [
    {
     "data": {
      "text/plain": [
       "array([[0.70398395, 0.78739011, 0.49637875, 0.62150704, 0.04645025],\n",
       "       [0.96288076, 0.43758151, 0.11841279, 0.58816196, 0.56811077],\n",
       "       [0.69894366, 0.13125319, 0.27842164, 0.87784351, 0.69393016]])"
      ]
     },
     "execution_count": 36,
     "metadata": {},
     "output_type": "execute_result"
    }
   ],
   "source": [
    "arr_2"
   ]
  },
  {
   "cell_type": "code",
   "execution_count": 41,
   "id": "690ca665",
   "metadata": {},
   "outputs": [
    {
     "data": {
      "text/plain": [
       "array([[0.704  , 0.7876 , 0.4963 , 0.6216 , 0.04645],\n",
       "       [0.963  , 0.4375 , 0.1184 , 0.5884 , 0.568  ],\n",
       "       [0.6987 , 0.1312 , 0.2783 , 0.878  , 0.694  ]], dtype=float16)"
      ]
     },
     "execution_count": 41,
     "metadata": {},
     "output_type": "execute_result"
    }
   ],
   "source": [
    "# конвертация типа данных массива\n",
    "arr_2.astype('float16')"
   ]
  },
  {
   "cell_type": "code",
   "execution_count": 42,
   "id": "f1de0b7f",
   "metadata": {},
   "outputs": [],
   "source": [
    "# транспонирование - поворот массива по диагонали"
   ]
  },
  {
   "cell_type": "code",
   "execution_count": 45,
   "id": "7d15bd4f",
   "metadata": {},
   "outputs": [
    {
     "data": {
      "text/plain": [
       "array([[0.70398395, 0.96288076, 0.69894366],\n",
       "       [0.78739011, 0.43758151, 0.13125319],\n",
       "       [0.49637875, 0.11841279, 0.27842164],\n",
       "       [0.62150704, 0.58816196, 0.87784351],\n",
       "       [0.04645025, 0.56811077, 0.69393016]])"
      ]
     },
     "execution_count": 45,
     "metadata": {},
     "output_type": "execute_result"
    }
   ],
   "source": [
    "arr_2.transpose()"
   ]
  },
  {
   "cell_type": "code",
   "execution_count": 48,
   "id": "a102e114",
   "metadata": {},
   "outputs": [],
   "source": [
    "a = arr_2.T"
   ]
  },
  {
   "cell_type": "code",
   "execution_count": 47,
   "id": "d899b21a",
   "metadata": {},
   "outputs": [
    {
     "data": {
      "text/plain": [
       "array([[0.70398395, 0.78739011, 0.49637875, 0.62150704, 0.04645025],\n",
       "       [0.96288076, 0.43758151, 0.11841279, 0.58816196, 0.56811077],\n",
       "       [0.69894366, 0.13125319, 0.27842164, 0.87784351, 0.69393016]])"
      ]
     },
     "execution_count": 47,
     "metadata": {},
     "output_type": "execute_result"
    }
   ],
   "source": [
    "arr_2"
   ]
  },
  {
   "cell_type": "code",
   "execution_count": 49,
   "id": "70d118fe",
   "metadata": {},
   "outputs": [
    {
     "data": {
      "text/plain": [
       "array([[0.70398395, 0.96288076, 0.69894366],\n",
       "       [0.78739011, 0.43758151, 0.13125319],\n",
       "       [0.49637875, 0.11841279, 0.27842164],\n",
       "       [0.62150704, 0.58816196, 0.87784351],\n",
       "       [0.04645025, 0.56811077, 0.69393016]])"
      ]
     },
     "execution_count": 49,
     "metadata": {},
     "output_type": "execute_result"
    }
   ],
   "source": [
    "a"
   ]
  },
  {
   "cell_type": "code",
   "execution_count": 50,
   "id": "603afbae",
   "metadata": {},
   "outputs": [
    {
     "data": {
      "text/plain": [
       "0.04645024904244899"
      ]
     },
     "execution_count": 50,
     "metadata": {},
     "output_type": "execute_result"
    }
   ],
   "source": [
    "arr_2.min()"
   ]
  },
  {
   "cell_type": "code",
   "execution_count": 54,
   "id": "dc997bbc",
   "metadata": {},
   "outputs": [
    {
     "data": {
      "text/plain": [
       "array([0.96288076, 0.78739011, 0.49637875, 0.87784351, 0.69393016])"
      ]
     },
     "execution_count": 54,
     "metadata": {},
     "output_type": "execute_result"
    }
   ],
   "source": [
    "arr_2.max(axis=0)"
   ]
  },
  {
   "cell_type": "code",
   "execution_count": 55,
   "id": "8461df42",
   "metadata": {},
   "outputs": [
    {
     "data": {
      "text/plain": [
       "array([0.78739011, 0.96288076, 0.87784351])"
      ]
     },
     "execution_count": 55,
     "metadata": {},
     "output_type": "execute_result"
    }
   ],
   "source": [
    "arr_2.max(axis=1)"
   ]
  },
  {
   "cell_type": "code",
   "execution_count": 56,
   "id": "60e9af0f",
   "metadata": {},
   "outputs": [
    {
     "data": {
      "text/plain": [
       "0.5340833367133012"
      ]
     },
     "execution_count": 56,
     "metadata": {},
     "output_type": "execute_result"
    }
   ],
   "source": [
    "# среднее значение \n",
    "arr_2.mean()"
   ]
  },
  {
   "cell_type": "code",
   "execution_count": 59,
   "id": "c8d5ed72",
   "metadata": {},
   "outputs": [
    {
     "data": {
      "text/plain": [
       "-1.4"
      ]
     },
     "execution_count": 59,
     "metadata": {},
     "output_type": "execute_result"
    }
   ],
   "source": [
    "arr_1.mean()"
   ]
  },
  {
   "cell_type": "code",
   "execution_count": 64,
   "id": "715b1e33",
   "metadata": {},
   "outputs": [
    {
     "data": {
      "text/plain": [
       "3"
      ]
     },
     "execution_count": 64,
     "metadata": {},
     "output_type": "execute_result"
    }
   ],
   "source": [
    "# индексы минимального и максимального значений\n",
    "arr_1.argmin()"
   ]
  },
  {
   "cell_type": "code",
   "execution_count": 65,
   "id": "cad6c33a",
   "metadata": {},
   "outputs": [
    {
     "data": {
      "text/plain": [
       "array([-7,  2, -3,  3,  3,  3,  6, -5,  3,  2,  6,  6,  8, -8, -6])"
      ]
     },
     "execution_count": 65,
     "metadata": {},
     "output_type": "execute_result"
    }
   ],
   "source": [
    "arr_0"
   ]
  },
  {
   "cell_type": "code",
   "execution_count": 67,
   "id": "3b671a50",
   "metadata": {},
   "outputs": [
    {
     "data": {
      "text/plain": [
       "13"
      ]
     },
     "execution_count": 67,
     "metadata": {},
     "output_type": "execute_result"
    }
   ],
   "source": [
    "arr_0.argmin()"
   ]
  },
  {
   "cell_type": "code",
   "execution_count": 68,
   "id": "38ab779c",
   "metadata": {},
   "outputs": [
    {
     "data": {
      "text/plain": [
       "12"
      ]
     },
     "execution_count": 68,
     "metadata": {},
     "output_type": "execute_result"
    }
   ],
   "source": [
    "arr_0.argmax()"
   ]
  },
  {
   "cell_type": "code",
   "execution_count": 58,
   "id": "a0cd8191",
   "metadata": {},
   "outputs": [
    {
     "data": {
      "text/plain": [
       "array([5, 0, 3, 3, 7])"
      ]
     },
     "execution_count": 58,
     "metadata": {},
     "output_type": "execute_result"
    }
   ],
   "source": [
    "# зерно ГПСЧ\n",
    "np.random.seed(0)\n",
    "np.random.randint(10, size=5)"
   ]
  },
  {
   "cell_type": "code",
   "execution_count": 70,
   "id": "46e3feac",
   "metadata": {},
   "outputs": [],
   "source": [
    "# сортировка значений массива\n",
    "arr_0.sort()"
   ]
  },
  {
   "cell_type": "code",
   "execution_count": 71,
   "id": "29ff21b0",
   "metadata": {},
   "outputs": [
    {
     "data": {
      "text/plain": [
       "array([-8, -7, -6, -5, -3,  2,  2,  3,  3,  3,  3,  6,  6,  6,  8])"
      ]
     },
     "execution_count": 71,
     "metadata": {},
     "output_type": "execute_result"
    }
   ],
   "source": [
    "arr_0"
   ]
  },
  {
   "cell_type": "code",
   "execution_count": 72,
   "id": "3d734ec1",
   "metadata": {},
   "outputs": [
    {
     "data": {
      "text/plain": [
       "array([ 8,  6,  6,  6,  3,  3,  3,  3,  2,  2, -3, -5, -6, -7, -8])"
      ]
     },
     "execution_count": 72,
     "metadata": {},
     "output_type": "execute_result"
    }
   ],
   "source": [
    "# переворот от сортированного массива\n",
    "arr_0[::-1]"
   ]
  },
  {
   "cell_type": "code",
   "execution_count": 76,
   "id": "fcbcf54a",
   "metadata": {},
   "outputs": [
    {
     "data": {
      "text/plain": [
       "array([6, 7, 7, 8, 1])"
      ]
     },
     "execution_count": 76,
     "metadata": {},
     "output_type": "execute_result"
    }
   ],
   "source": [
    "arr_3 = np.random.randint(10, size=5)\n",
    "arr_3"
   ]
  },
  {
   "cell_type": "code",
   "execution_count": 77,
   "id": "0dc427c0",
   "metadata": {},
   "outputs": [
    {
     "data": {
      "text/plain": [
       "array([6, 7, 1, 8, 7])"
      ]
     },
     "execution_count": 77,
     "metadata": {},
     "output_type": "execute_result"
    }
   ],
   "source": [
    "arr_3[2:] = arr_3[2:][::-1]\n",
    "arr_3"
   ]
  },
  {
   "cell_type": "markdown",
   "id": "4bd9b295",
   "metadata": {},
   "source": [
    "## Индексация"
   ]
  },
  {
   "cell_type": "code",
   "execution_count": 78,
   "id": "03cccf93",
   "metadata": {},
   "outputs": [
    {
     "data": {
      "text/plain": [
       "array([[ 5, 13,  8,  9],\n",
       "       [19, 16, 19,  5],\n",
       "       [15, 15,  0, 18]])"
      ]
     },
     "execution_count": 78,
     "metadata": {},
     "output_type": "execute_result"
    }
   ],
   "source": [
    "arr_4 = np.random.randint(20, size=(3,4))\n",
    "arr_4"
   ]
  },
  {
   "cell_type": "code",
   "execution_count": 79,
   "id": "8451b620",
   "metadata": {},
   "outputs": [
    {
     "data": {
      "text/plain": [
       "array([19, 16, 19,  5])"
      ]
     },
     "execution_count": 79,
     "metadata": {},
     "output_type": "execute_result"
    }
   ],
   "source": [
    "# прямая индексация\n",
    "arr_4[1]"
   ]
  },
  {
   "cell_type": "code",
   "execution_count": 80,
   "id": "52d52ebe",
   "metadata": {},
   "outputs": [
    {
     "data": {
      "text/plain": [
       "array([15, 15,  0, 18])"
      ]
     },
     "execution_count": 80,
     "metadata": {},
     "output_type": "execute_result"
    }
   ],
   "source": [
    "# обратная индексация\n",
    "arr_4[-1]"
   ]
  },
  {
   "cell_type": "code",
   "execution_count": 81,
   "id": "37b45483",
   "metadata": {},
   "outputs": [
    {
     "data": {
      "text/plain": [
       "0"
      ]
     },
     "execution_count": 81,
     "metadata": {},
     "output_type": "execute_result"
    }
   ],
   "source": [
    "# извлечение значений \n",
    "# стандартный питоновский синтаксис\n",
    "arr_4[-1][2]"
   ]
  },
  {
   "cell_type": "code",
   "execution_count": 82,
   "id": "e49d08d9",
   "metadata": {},
   "outputs": [
    {
     "data": {
      "text/plain": [
       "0"
      ]
     },
     "execution_count": 82,
     "metadata": {},
     "output_type": "execute_result"
    }
   ],
   "source": [
    "# синтаксис нампи\n",
    "arr_4[-1, 2]"
   ]
  },
  {
   "cell_type": "code",
   "execution_count": 83,
   "id": "a1df3f46",
   "metadata": {},
   "outputs": [
    {
     "data": {
      "text/plain": [
       "array([[  5,  13,   8,   9],\n",
       "       [ 19,  16,  19,   5],\n",
       "       [ 15,  15, 100,  18]])"
      ]
     },
     "execution_count": 83,
     "metadata": {},
     "output_type": "execute_result"
    }
   ],
   "source": [
    "# запись значения\n",
    "arr_4[-1,2] = 100\n",
    "arr_4"
   ]
  },
  {
   "cell_type": "markdown",
   "id": "a2b753bf",
   "metadata": {},
   "source": [
    "# Срезы"
   ]
  },
  {
   "cell_type": "code",
   "execution_count": 84,
   "id": "43b8d183",
   "metadata": {},
   "outputs": [
    {
     "data": {
      "text/plain": [
       "array([[ 19,  16,  19,   5],\n",
       "       [ 15,  15, 100,  18]])"
      ]
     },
     "execution_count": 84,
     "metadata": {},
     "output_type": "execute_result"
    }
   ],
   "source": [
    "# срез строк\n",
    "arr_4[1:]"
   ]
  },
  {
   "cell_type": "code",
   "execution_count": 85,
   "id": "9db47372",
   "metadata": {},
   "outputs": [
    {
     "data": {
      "text/plain": [
       "array([13,  8,  9])"
      ]
     },
     "execution_count": 85,
     "metadata": {},
     "output_type": "execute_result"
    }
   ],
   "source": [
    "arr_4[0, 1:]"
   ]
  },
  {
   "cell_type": "code",
   "execution_count": 86,
   "id": "dcfc5843",
   "metadata": {},
   "outputs": [],
   "source": [
    "# срез столбцов"
   ]
  },
  {
   "cell_type": "code",
   "execution_count": 88,
   "id": "329ccd87",
   "metadata": {},
   "outputs": [
    {
     "data": {
      "text/plain": [
       "array([[  8,   9],\n",
       "       [ 19,   5],\n",
       "       [100,  18]])"
      ]
     },
     "execution_count": 88,
     "metadata": {},
     "output_type": "execute_result"
    }
   ],
   "source": [
    "arr_4[:, 2:]"
   ]
  },
  {
   "cell_type": "code",
   "execution_count": 89,
   "id": "fcc50e39",
   "metadata": {},
   "outputs": [
    {
     "data": {
      "text/plain": [
       "array([[13,  8,  9],\n",
       "       [16, 19,  5]])"
      ]
     },
     "execution_count": 89,
     "metadata": {},
     "output_type": "execute_result"
    }
   ],
   "source": [
    "# срез строк и столбцов\n",
    "arr_4[:2, 1:]"
   ]
  },
  {
   "cell_type": "code",
   "execution_count": 90,
   "id": "d7481700",
   "metadata": {},
   "outputs": [
    {
     "data": {
      "text/plain": [
       "array([[  5,  13,   8,   9],\n",
       "       [ 19,  16,  19,   5],\n",
       "       [ 15,  15, 100,  18]])"
      ]
     },
     "execution_count": 90,
     "metadata": {},
     "output_type": "execute_result"
    }
   ],
   "source": [
    "arr_4"
   ]
  },
  {
   "cell_type": "code",
   "execution_count": 91,
   "id": "97210818",
   "metadata": {},
   "outputs": [
    {
     "data": {
      "text/plain": [
       "array([[13,  8,  9],\n",
       "       [16, 19,  5]])"
      ]
     },
     "execution_count": 91,
     "metadata": {},
     "output_type": "execute_result"
    }
   ],
   "source": [
    "arr_5 = arr_4[:2, 1:]\n",
    "arr_5"
   ]
  },
  {
   "cell_type": "code",
   "execution_count": 92,
   "id": "0e391944",
   "metadata": {},
   "outputs": [
    {
     "data": {
      "text/plain": [
       "array([[10,  8,  9],\n",
       "       [16, 19,  5]])"
      ]
     },
     "execution_count": 92,
     "metadata": {},
     "output_type": "execute_result"
    }
   ],
   "source": [
    "arr_5[0,0] = 10\n",
    "arr_5"
   ]
  },
  {
   "cell_type": "code",
   "execution_count": 93,
   "id": "387814ef",
   "metadata": {},
   "outputs": [
    {
     "data": {
      "text/plain": [
       "array([[  5,  10,   8,   9],\n",
       "       [ 19,  16,  19,   5],\n",
       "       [ 15,  15, 100,  18]])"
      ]
     },
     "execution_count": 93,
     "metadata": {},
     "output_type": "execute_result"
    }
   ],
   "source": [
    "arr_4"
   ]
  },
  {
   "cell_type": "code",
   "execution_count": 94,
   "id": "53dd0eca",
   "metadata": {},
   "outputs": [],
   "source": [
    "# копия массива на базе массива"
   ]
  },
  {
   "cell_type": "code",
   "execution_count": 95,
   "id": "a148db08",
   "metadata": {},
   "outputs": [],
   "source": [
    "arr_6 = arr_4[:2, 1:].copy()"
   ]
  },
  {
   "cell_type": "code",
   "execution_count": 96,
   "id": "a364fd2d",
   "metadata": {},
   "outputs": [
    {
     "data": {
      "text/plain": [
       "array([[10,  8,  9],\n",
       "       [16, 19,  5]])"
      ]
     },
     "execution_count": 96,
     "metadata": {},
     "output_type": "execute_result"
    }
   ],
   "source": [
    "arr_6"
   ]
  },
  {
   "cell_type": "code",
   "execution_count": 97,
   "id": "4aab387d",
   "metadata": {},
   "outputs": [],
   "source": [
    "arr_6[0,0] = 15"
   ]
  },
  {
   "cell_type": "code",
   "execution_count": 98,
   "id": "d4ef2eb1",
   "metadata": {},
   "outputs": [
    {
     "data": {
      "text/plain": [
       "array([[15,  8,  9],\n",
       "       [16, 19,  5]])"
      ]
     },
     "execution_count": 98,
     "metadata": {},
     "output_type": "execute_result"
    }
   ],
   "source": [
    "arr_6"
   ]
  },
  {
   "cell_type": "code",
   "execution_count": 99,
   "id": "5fd22cf3",
   "metadata": {},
   "outputs": [
    {
     "data": {
      "text/plain": [
       "array([[10,  8,  9],\n",
       "       [16, 19,  5]])"
      ]
     },
     "execution_count": 99,
     "metadata": {},
     "output_type": "execute_result"
    }
   ],
   "source": [
    "arr_5"
   ]
  },
  {
   "cell_type": "code",
   "execution_count": null,
   "id": "f7d2117b",
   "metadata": {},
   "outputs": [],
   "source": []
  }
 ],
 "metadata": {
  "kernelspec": {
   "display_name": "Python 3 (ipykernel)",
   "language": "python",
   "name": "python3"
  },
  "language_info": {
   "codemirror_mode": {
    "name": "ipython",
    "version": 3
   },
   "file_extension": ".py",
   "mimetype": "text/x-python",
   "name": "python",
   "nbconvert_exporter": "python",
   "pygments_lexer": "ipython3",
   "version": "3.9.12"
  }
 },
 "nbformat": 4,
 "nbformat_minor": 5
}
