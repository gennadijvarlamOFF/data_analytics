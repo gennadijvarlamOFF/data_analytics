{
 "cells": [
  {
   "cell_type": "code",
   "execution_count": 1,
   "id": "72e2571a",
   "metadata": {},
   "outputs": [],
   "source": [
    "import numpy as np"
   ]
  },
  {
   "cell_type": "markdown",
   "id": "8752bd8b",
   "metadata": {},
   "source": [
    "## Операции "
   ]
  },
  {
   "cell_type": "code",
   "execution_count": 2,
   "id": "1d20c1ca",
   "metadata": {},
   "outputs": [],
   "source": [
    "# 1-мерный массив"
   ]
  },
  {
   "cell_type": "code",
   "execution_count": 8,
   "id": "6b108289",
   "metadata": {},
   "outputs": [],
   "source": [
    "arr_0 = np.arange(1,11)"
   ]
  },
  {
   "cell_type": "code",
   "execution_count": 9,
   "id": "39a99902",
   "metadata": {},
   "outputs": [
    {
     "data": {
      "text/plain": [
       "array([ 1,  2,  3,  4,  5,  6,  7,  8,  9, 10])"
      ]
     },
     "execution_count": 9,
     "metadata": {},
     "output_type": "execute_result"
    }
   ],
   "source": [
    "arr_0"
   ]
  },
  {
   "cell_type": "code",
   "execution_count": 13,
   "id": "e373fddc",
   "metadata": {},
   "outputs": [],
   "source": [
    "arr_1 = np.arange(0,19,2)"
   ]
  },
  {
   "cell_type": "code",
   "execution_count": 14,
   "id": "e5a06bc3",
   "metadata": {},
   "outputs": [
    {
     "data": {
      "text/plain": [
       "array([ 0,  2,  4,  6,  8, 10, 12, 14, 16, 18])"
      ]
     },
     "execution_count": 14,
     "metadata": {},
     "output_type": "execute_result"
    }
   ],
   "source": [
    "arr_1"
   ]
  },
  {
   "cell_type": "code",
   "execution_count": 19,
   "id": "66593607",
   "metadata": {},
   "outputs": [],
   "source": [
    "# поэлементное сложение 2-х массивов\n",
    "\n",
    "# решение с применением стандартного питонского инструментария\n",
    "def arr_sum(a, b):\n",
    "    res = []\n",
    "    idx = 0\n",
    "    for val in a:\n",
    "        res.append(val + b[idx])\n",
    "        idx += 1\n",
    "    return res\n"
   ]
  },
  {
   "cell_type": "code",
   "execution_count": 21,
   "id": "753d431e",
   "metadata": {},
   "outputs": [
    {
     "data": {
      "text/plain": [
       "[1, 4, 7, 10, 13, 16, 19, 22, 25, 28]"
      ]
     },
     "execution_count": 21,
     "metadata": {},
     "output_type": "execute_result"
    }
   ],
   "source": [
    "arr_sum(arr_0, arr_1)"
   ]
  },
  {
   "cell_type": "code",
   "execution_count": 22,
   "id": "53a111f5",
   "metadata": {},
   "outputs": [
    {
     "name": "stdout",
     "output_type": "stream",
     "text": [
      "3.24 µs ± 10 ns per loop (mean ± std. dev. of 7 runs, 100,000 loops each)\n"
     ]
    }
   ],
   "source": [
    "%timeit arr_sum(arr_0, arr_1)"
   ]
  },
  {
   "cell_type": "code",
   "execution_count": 23,
   "id": "09f7148a",
   "metadata": {},
   "outputs": [
    {
     "data": {
      "text/plain": [
       "array([ 1,  4,  7, 10, 13, 16, 19, 22, 25, 28])"
      ]
     },
     "execution_count": 23,
     "metadata": {},
     "output_type": "execute_result"
    }
   ],
   "source": [
    "# решение с применением numpy\n",
    "arr_0 + arr_1"
   ]
  },
  {
   "cell_type": "code",
   "execution_count": 24,
   "id": "3dbe488d",
   "metadata": {},
   "outputs": [],
   "source": [
    "# поэлементное умножение 2-х массивов"
   ]
  },
  {
   "cell_type": "code",
   "execution_count": 25,
   "id": "56a2aeff",
   "metadata": {},
   "outputs": [],
   "source": [
    "arr_2 = np.arange(3*3)\n",
    "arr_3 = arr_2.reshape((3,3))"
   ]
  },
  {
   "cell_type": "code",
   "execution_count": 26,
   "id": "50b3671a",
   "metadata": {},
   "outputs": [
    {
     "data": {
      "text/plain": [
       "array([[0, 1, 2],\n",
       "       [3, 4, 5],\n",
       "       [6, 7, 8]])"
      ]
     },
     "execution_count": 26,
     "metadata": {},
     "output_type": "execute_result"
    }
   ],
   "source": [
    "arr_3"
   ]
  },
  {
   "cell_type": "code",
   "execution_count": 27,
   "id": "5ecd387c",
   "metadata": {},
   "outputs": [
    {
     "data": {
      "text/plain": [
       "array([[0, 1, 2],\n",
       "       [3, 4, 5],\n",
       "       [6, 7, 8]])"
      ]
     },
     "execution_count": 27,
     "metadata": {},
     "output_type": "execute_result"
    }
   ],
   "source": [
    "arr_4 = np.arange(9).reshape((3,3))\n",
    "arr_4"
   ]
  },
  {
   "cell_type": "code",
   "execution_count": 28,
   "id": "7134bc98",
   "metadata": {},
   "outputs": [
    {
     "data": {
      "text/plain": [
       "array([[ 0,  1,  4],\n",
       "       [ 9, 16, 25],\n",
       "       [36, 49, 64]])"
      ]
     },
     "execution_count": 28,
     "metadata": {},
     "output_type": "execute_result"
    }
   ],
   "source": [
    "arr_3 * arr_4"
   ]
  },
  {
   "cell_type": "code",
   "execution_count": 29,
   "id": "3b9a8420",
   "metadata": {},
   "outputs": [],
   "source": [
    "# Точечное умножение\n",
    "\n",
    "# скаоярное произведение\n",
    "r_vector = np.arange(3)\n",
    "t_vector =  np.arange(3).reshape((3,1))"
   ]
  },
  {
   "cell_type": "code",
   "execution_count": 30,
   "id": "8e68eca3",
   "metadata": {},
   "outputs": [
    {
     "data": {
      "text/plain": [
       "(array([0, 1, 2]),\n",
       " array([[0],\n",
       "        [1],\n",
       "        [2]]))"
      ]
     },
     "execution_count": 30,
     "metadata": {},
     "output_type": "execute_result"
    }
   ],
   "source": [
    "r_vector, t_vector"
   ]
  },
  {
   "cell_type": "code",
   "execution_count": 31,
   "id": "5f6ea019",
   "metadata": {},
   "outputs": [
    {
     "data": {
      "text/plain": [
       "array([5])"
      ]
     },
     "execution_count": 31,
     "metadata": {},
     "output_type": "execute_result"
    }
   ],
   "source": [
    "r_vector @ t_vector"
   ]
  },
  {
   "cell_type": "code",
   "execution_count": 33,
   "id": "c6809e6f",
   "metadata": {},
   "outputs": [
    {
     "data": {
      "text/plain": [
       "array([[0, 1],\n",
       "       [2, 3],\n",
       "       [4, 5]])"
      ]
     },
     "execution_count": 33,
     "metadata": {},
     "output_type": "execute_result"
    }
   ],
   "source": [
    "# вектор на матрицу\n",
    "matrix_0 = np.arange(3*2).reshape((3,2))\n",
    "matrix_0"
   ]
  },
  {
   "cell_type": "code",
   "execution_count": 34,
   "id": "95641265",
   "metadata": {},
   "outputs": [
    {
     "data": {
      "text/plain": [
       "array([10, 13])"
      ]
     },
     "execution_count": 34,
     "metadata": {},
     "output_type": "execute_result"
    }
   ],
   "source": [
    "r_vector @ matrix_0"
   ]
  },
  {
   "cell_type": "code",
   "execution_count": 35,
   "id": "b921a1b8",
   "metadata": {},
   "outputs": [
    {
     "data": {
      "text/plain": [
       "(array([[0, 1],\n",
       "        [2, 3]]),\n",
       " array([[0, 1],\n",
       "        [2, 3]]))"
      ]
     },
     "execution_count": 35,
     "metadata": {},
     "output_type": "execute_result"
    }
   ],
   "source": [
    "# матрица на матрицу\n",
    "\n",
    "matrix_1 = np.arange(2*2).reshape((2,2))\n",
    "matrix_2 = np.arange(2*2).reshape((2,2))\n",
    "\n",
    "matrix_1, matrix_2"
   ]
  },
  {
   "cell_type": "code",
   "execution_count": 36,
   "id": "35a2cc2d",
   "metadata": {},
   "outputs": [
    {
     "data": {
      "text/plain": [
       "array([[ 2,  3],\n",
       "       [ 6, 11]])"
      ]
     },
     "execution_count": 36,
     "metadata": {},
     "output_type": "execute_result"
    }
   ],
   "source": [
    "matrix_1 @ matrix_2"
   ]
  },
  {
   "cell_type": "code",
   "execution_count": 37,
   "id": "7123c667",
   "metadata": {},
   "outputs": [
    {
     "data": {
      "text/plain": [
       "(array([[0, 1],\n",
       "        [2, 3]]),\n",
       " array([[0, 1],\n",
       "        [2, 3]]))"
      ]
     },
     "execution_count": 37,
     "metadata": {},
     "output_type": "execute_result"
    }
   ],
   "source": [
    "# логические операции\n",
    "matrix_1, matrix_2"
   ]
  },
  {
   "cell_type": "code",
   "execution_count": 38,
   "id": "f6e01b00",
   "metadata": {},
   "outputs": [
    {
     "data": {
      "text/plain": [
       "array([[False, False],\n",
       "       [False, False]])"
      ]
     },
     "execution_count": 38,
     "metadata": {},
     "output_type": "execute_result"
    }
   ],
   "source": [
    "# поэлементное сравнение\n",
    "matrix_1 != matrix_2"
   ]
  },
  {
   "cell_type": "code",
   "execution_count": 39,
   "id": "89334f56",
   "metadata": {},
   "outputs": [
    {
     "data": {
      "text/plain": [
       "array([[ True,  True],\n",
       "       [False, False]])"
      ]
     },
     "execution_count": 39,
     "metadata": {},
     "output_type": "execute_result"
    }
   ],
   "source": [
    "# сравнение массива с скалярным значением\n",
    "matrix_1 < 2"
   ]
  },
  {
   "cell_type": "code",
   "execution_count": 40,
   "id": "47018538",
   "metadata": {},
   "outputs": [
    {
     "data": {
      "text/plain": [
       "False"
      ]
     },
     "execution_count": 40,
     "metadata": {},
     "output_type": "execute_result"
    }
   ],
   "source": [
    "# все ли значения массива больше 2-х?\n",
    "\n",
    "np.all(matrix_2 > 2)"
   ]
  },
  {
   "cell_type": "code",
   "execution_count": 41,
   "id": "e8ca37a2",
   "metadata": {},
   "outputs": [
    {
     "data": {
      "text/plain": [
       "True"
      ]
     },
     "execution_count": 41,
     "metadata": {},
     "output_type": "execute_result"
    }
   ],
   "source": [
    "# есть ли хоть одно значение в массиве, которое больше 2?\n",
    "np.any(matrix_2 > 2)"
   ]
  },
  {
   "cell_type": "code",
   "execution_count": 44,
   "id": "aff440e4",
   "metadata": {},
   "outputs": [
    {
     "data": {
      "text/plain": [
       "array([5, 0, 3, 3, 7])"
      ]
     },
     "execution_count": 44,
     "metadata": {},
     "output_type": "execute_result"
    }
   ],
   "source": [
    "# маскирование\n",
    "np.random.seed(0)\n",
    "arr_5 = np.random.randint(10, size=5)\n",
    "arr_5"
   ]
  },
  {
   "cell_type": "code",
   "execution_count": 45,
   "id": "4e0e40d4",
   "metadata": {},
   "outputs": [
    {
     "data": {
      "text/plain": [
       "array([ True, False, False, False,  True])"
      ]
     },
     "execution_count": 45,
     "metadata": {},
     "output_type": "execute_result"
    }
   ],
   "source": [
    "mask = arr_5 >= 5\n",
    "mask"
   ]
  },
  {
   "cell_type": "code",
   "execution_count": 46,
   "id": "119c7276",
   "metadata": {},
   "outputs": [
    {
     "data": {
      "text/plain": [
       "array([5, 7])"
      ]
     },
     "execution_count": 46,
     "metadata": {},
     "output_type": "execute_result"
    }
   ],
   "source": [
    "arr_5[mask]"
   ]
  },
  {
   "cell_type": "code",
   "execution_count": 47,
   "id": "d34421c4",
   "metadata": {},
   "outputs": [],
   "source": [
    "# побитовые операторы"
   ]
  },
  {
   "cell_type": "code",
   "execution_count": 48,
   "id": "565248ba",
   "metadata": {},
   "outputs": [
    {
     "data": {
      "text/plain": [
       "array([5, 0, 7])"
      ]
     },
     "execution_count": 48,
     "metadata": {},
     "output_type": "execute_result"
    }
   ],
   "source": [
    "arr_5[arr_5 != 3]"
   ]
  },
  {
   "cell_type": "code",
   "execution_count": null,
   "id": "2e941613",
   "metadata": {},
   "outputs": [],
   "source": []
  }
 ],
 "metadata": {
  "kernelspec": {
   "display_name": "Python 3 (ipykernel)",
   "language": "python",
   "name": "python3"
  },
  "language_info": {
   "codemirror_mode": {
    "name": "ipython",
    "version": 3
   },
   "file_extension": ".py",
   "mimetype": "text/x-python",
   "name": "python",
   "nbconvert_exporter": "python",
   "pygments_lexer": "ipython3",
   "version": "3.9.12"
  }
 },
 "nbformat": 4,
 "nbformat_minor": 5
}
